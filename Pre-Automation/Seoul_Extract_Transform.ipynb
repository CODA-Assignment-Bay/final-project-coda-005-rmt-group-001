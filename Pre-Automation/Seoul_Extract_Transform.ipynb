{
 "cells": [
  {
   "cell_type": "markdown",
   "id": "6ca9d338",
   "metadata": {},
   "source": [
    "# Extract.py"
   ]
  },
  {
   "cell_type": "code",
   "execution_count": 1,
   "id": "e1f47251",
   "metadata": {},
   "outputs": [],
   "source": [
    "import pandas as pd\n",
    "\n",
    "def load_csv(filename):\n",
    "    \"\"\"\n",
    "    Fungsi ini ditujukan untuk memuat file CSV ke pandas dataframe.\n",
    "\n",
    "    Parameters:\n",
    "        filename (str): Nama file CSV.\n",
    "\n",
    "    Returns:\n",
    "        pd.DataFrame: DataFrame yang sudah di load.\n",
    "\n",
    "    Contoh penggunaan:\n",
    "        df = load_data(\"c/user/titanic.csv\")\n",
    "    \"\"\"\n",
    "    df = pd.read_csv(filename)\n",
    "    return df\n"
   ]
  },
  {
   "cell_type": "code",
   "execution_count": null,
   "id": "30a36d47",
   "metadata": {},
   "outputs": [],
   "source": []
  }
 ],
 "metadata": {
  "kernelspec": {
   "display_name": "base",
   "language": "python",
   "name": "python3"
  },
  "language_info": {
   "codemirror_mode": {
    "name": "ipython",
    "version": 3
   },
   "file_extension": ".py",
   "mimetype": "text/x-python",
   "name": "python",
   "nbconvert_exporter": "python",
   "pygments_lexer": "ipython3",
   "version": "3.9.12"
  }
 },
 "nbformat": 4,
 "nbformat_minor": 5
}
