{
 "cells": [
  {
   "cell_type": "code",
   "execution_count": 4,
   "id": "8c4ee709-e029-4d35-b212-4045b24d212c",
   "metadata": {},
   "outputs": [],
   "source": [
    "from pyspark.sql.functions import isnan, when, count, col\n",
    "from pyspark.sql.functions import desc\n",
    "import pyspark.sql.functions as F"
   ]
  },
  {
   "cell_type": "markdown",
   "id": "e9ec098b-dc40-4cd3-a9c7-1455ccd27ec6",
   "metadata": {
    "jp-MarkdownHeadingCollapsed": true
   },
   "source": [
    "# Extract"
   ]
  },
  {
   "cell_type": "code",
   "execution_count": 5,
   "id": "665592f5-d865-4f5b-8a7c-8cb7ce6f69a0",
   "metadata": {},
   "outputs": [],
   "source": [
    "from pyspark.sql import SparkSession\n",
    "def load_data(file_path):\n",
    "    spark = SparkSession.builder.getOrCreate()\n",
    "    data = spark.read.csv(file_path, header=True, inferSchema=True)\n",
    "    return data\n",
    "df = load_data(\"soil_pollution_diseases.csv\")\n",
    "\n",
    "#df.show()"
   ]
  },
  {
   "cell_type": "code",
   "execution_count": 6,
   "id": "465687cd-bec2-414e-8cec-94d60d6a9f87",
   "metadata": {},
   "outputs": [
    {
     "name": "stdout",
     "output_type": "stream",
     "text": [
      "root\n",
      " |-- Case_ID: string (nullable = true)\n",
      " |-- Date_Reported: date (nullable = true)\n",
      " |-- Region: string (nullable = true)\n",
      " |-- Country: string (nullable = true)\n",
      " |-- Pollutant_Type: string (nullable = true)\n",
      " |-- Pollutant_Concentration_mg_kg: double (nullable = true)\n",
      " |-- Soil_pH: double (nullable = true)\n",
      " |-- Temperature_C: double (nullable = true)\n",
      " |-- Humidity_%: double (nullable = true)\n",
      " |-- Rainfall_mm: double (nullable = true)\n",
      " |-- Crop_Type: string (nullable = true)\n",
      " |-- Farming_Practice: string (nullable = true)\n",
      " |-- Nearby_Industry: string (nullable = true)\n",
      " |-- Water_Source_Type: string (nullable = true)\n",
      " |-- Soil_Texture: string (nullable = true)\n",
      " |-- Soil_Organic_Matter_%: double (nullable = true)\n",
      " |-- Disease_Type: string (nullable = true)\n",
      " |-- Disease_Severity: string (nullable = true)\n",
      " |-- Health_Symptoms: string (nullable = true)\n",
      " |-- Age_Group_Affected: string (nullable = true)\n",
      " |-- Gender_Most_Affected: string (nullable = true)\n",
      " |-- Mitigation_Measure: string (nullable = true)\n",
      " |-- Case_Resolved: string (nullable = true)\n",
      " |-- Follow_Up_Required: string (nullable = true)\n",
      "\n"
     ]
    }
   ],
   "source": [
    "df.printSchema()"
   ]
  },
  {
   "cell_type": "markdown",
   "id": "183e3cc0-cd00-45d7-8ef3-d6a8c15911c7",
   "metadata": {},
   "source": [
    "# Transform"
   ]
  },
  {
   "cell_type": "markdown",
   "id": "7e300059-6310-4985-82dc-9066ba4fe508",
   "metadata": {
    "jp-MarkdownHeadingCollapsed": true
   },
   "source": [
    "### Drop kolom\n",
    "\n",
    "Drop kolom 'Region' karena tidak digunakan pada analisa, untuk daerah dapat direpresentasikan oleh kolom 'Country'"
   ]
  },
  {
   "cell_type": "code",
   "execution_count": 7,
   "id": "5d0e82a3-e8e3-476b-aec2-f2710eb5abaa",
   "metadata": {
    "scrolled": true
   },
   "outputs": [
    {
     "name": "stdout",
     "output_type": "stream",
     "text": [
      "root\n",
      " |-- Case_ID: string (nullable = true)\n",
      " |-- Date_Reported: date (nullable = true)\n",
      " |-- Country: string (nullable = true)\n",
      " |-- Pollutant_Type: string (nullable = true)\n",
      " |-- Pollutant_Concentration_mg_kg: double (nullable = true)\n",
      " |-- Soil_pH: double (nullable = true)\n",
      " |-- Temperature_C: double (nullable = true)\n",
      " |-- Humidity_%: double (nullable = true)\n",
      " |-- Rainfall_mm: double (nullable = true)\n",
      " |-- Crop_Type: string (nullable = true)\n",
      " |-- Farming_Practice: string (nullable = true)\n",
      " |-- Nearby_Industry: string (nullable = true)\n",
      " |-- Water_Source_Type: string (nullable = true)\n",
      " |-- Soil_Texture: string (nullable = true)\n",
      " |-- Soil_Organic_Matter_%: double (nullable = true)\n",
      " |-- Disease_Type: string (nullable = true)\n",
      " |-- Disease_Severity: string (nullable = true)\n",
      " |-- Health_Symptoms: string (nullable = true)\n",
      " |-- Age_Group_Affected: string (nullable = true)\n",
      " |-- Gender_Most_Affected: string (nullable = true)\n",
      " |-- Mitigation_Measure: string (nullable = true)\n",
      " |-- Case_Resolved: string (nullable = true)\n",
      " |-- Follow_Up_Required: string (nullable = true)\n",
      "\n"
     ]
    }
   ],
   "source": [
    "df = df.drop(\"Region\")\n",
    "df.printSchema()"
   ]
  },
  {
   "cell_type": "markdown",
   "id": "a34b3b71-0b5d-4ef6-81b8-998e2e459e84",
   "metadata": {
    "jp-MarkdownHeadingCollapsed": true
   },
   "source": [
    "### Null Values\n",
    "\n",
    "Mencari kolom yang memiliki nilai Null"
   ]
  },
  {
   "cell_type": "markdown",
   "id": "d7f3ea14-dedb-4c7e-a5a5-e80e3c972deb",
   "metadata": {},
   "source": [
    "Kolom numerikal:"
   ]
  },
  {
   "cell_type": "code",
   "execution_count": 8,
   "id": "533f4258-165b-4e35-a370-b1a72b939d25",
   "metadata": {},
   "outputs": [],
   "source": [
    "# Kolom numerik\n",
    "import pyspark.sql.functions as F\n",
    "def count_missings(spark_df,sort=True):\n",
    "    \"\"\"\n",
    "    Counts number of nulls and nans in each column\n",
    "    \"\"\"\n",
    "    df = spark_df.select([F.count(F.when(F.isnan(c) | F.isnull(c), c)).alias(c) for (c,c_type) in spark_df.dtypes if c_type not in ('timestamp', 'string','date')]).toPandas()\n",
    "    \n",
    "    if len(df) == 0:\n",
    "        print(\"There are no any missing values!\")\n",
    "        return None\n",
    "\n",
    "    if sort:\n",
    "        return df.rename(index={0: 'count'}).T.sort_values(\"count\",ascending=False)\n",
    "\n",
    "    return df"
   ]
  },
  {
   "cell_type": "code",
   "execution_count": 9,
   "id": "f8c28c35-8594-4a1a-b52b-b0ce3c544c4c",
   "metadata": {},
   "outputs": [
    {
     "data": {
      "text/html": [
       "<div>\n",
       "<style scoped>\n",
       "    .dataframe tbody tr th:only-of-type {\n",
       "        vertical-align: middle;\n",
       "    }\n",
       "\n",
       "    .dataframe tbody tr th {\n",
       "        vertical-align: top;\n",
       "    }\n",
       "\n",
       "    .dataframe thead th {\n",
       "        text-align: right;\n",
       "    }\n",
       "</style>\n",
       "<table border=\"1\" class=\"dataframe\">\n",
       "  <thead>\n",
       "    <tr style=\"text-align: right;\">\n",
       "      <th></th>\n",
       "      <th>count</th>\n",
       "    </tr>\n",
       "  </thead>\n",
       "  <tbody>\n",
       "    <tr>\n",
       "      <th>Pollutant_Concentration_mg_kg</th>\n",
       "      <td>0</td>\n",
       "    </tr>\n",
       "    <tr>\n",
       "      <th>Soil_pH</th>\n",
       "      <td>0</td>\n",
       "    </tr>\n",
       "    <tr>\n",
       "      <th>Temperature_C</th>\n",
       "      <td>0</td>\n",
       "    </tr>\n",
       "    <tr>\n",
       "      <th>Humidity_%</th>\n",
       "      <td>0</td>\n",
       "    </tr>\n",
       "    <tr>\n",
       "      <th>Rainfall_mm</th>\n",
       "      <td>0</td>\n",
       "    </tr>\n",
       "    <tr>\n",
       "      <th>Soil_Organic_Matter_%</th>\n",
       "      <td>0</td>\n",
       "    </tr>\n",
       "  </tbody>\n",
       "</table>\n",
       "</div>"
      ],
      "text/plain": [
       "                               count\n",
       "Pollutant_Concentration_mg_kg      0\n",
       "Soil_pH                            0\n",
       "Temperature_C                      0\n",
       "Humidity_%                         0\n",
       "Rainfall_mm                        0\n",
       "Soil_Organic_Matter_%              0"
      ]
     },
     "execution_count": 9,
     "metadata": {},
     "output_type": "execute_result"
    }
   ],
   "source": [
    "count_missings(df)"
   ]
  },
  {
   "cell_type": "markdown",
   "id": "059986d5-2e35-4a3a-a779-0ed779b2b32b",
   "metadata": {},
   "source": [
    "Kolom kategorikal:"
   ]
  },
  {
   "cell_type": "code",
   "execution_count": 10,
   "id": "361b439b-d749-4933-abd6-5170f380535e",
   "metadata": {},
   "outputs": [
    {
     "name": "stdout",
     "output_type": "stream",
     "text": [
      "root\n",
      " |-- Case_ID: string (nullable = true)\n",
      " |-- Country: string (nullable = true)\n",
      " |-- Pollutant_Type: string (nullable = true)\n",
      " |-- Crop_Type: string (nullable = true)\n",
      " |-- Farming_Practice: string (nullable = true)\n",
      " |-- Nearby_Industry: string (nullable = true)\n",
      " |-- Water_Source_Type: string (nullable = true)\n",
      " |-- Soil_Texture: string (nullable = true)\n",
      " |-- Disease_Type: string (nullable = true)\n",
      " |-- Disease_Severity: string (nullable = true)\n",
      " |-- Health_Symptoms: string (nullable = true)\n",
      " |-- Age_Group_Affected: string (nullable = true)\n",
      " |-- Gender_Most_Affected: string (nullable = true)\n",
      " |-- Mitigation_Measure: string (nullable = true)\n",
      " |-- Case_Resolved: string (nullable = true)\n",
      " |-- Follow_Up_Required: string (nullable = true)\n",
      "\n"
     ]
    }
   ],
   "source": [
    "from pyspark.sql.types import StringType, IntegerType, DoubleType\n",
    "schema = df.schema\n",
    "string_cols = [f.name for f in schema if isinstance(f.dataType, StringType)]\n",
    "df_string = df.select(*string_cols)\n",
    "#df_string.show()\n",
    "df_string.printSchema()"
   ]
  },
  {
   "cell_type": "code",
   "execution_count": 11,
   "id": "e4e0604d-a761-42a2-af52-28ae5dac8eb6",
   "metadata": {},
   "outputs": [
    {
     "data": {
      "text/plain": [
       "{'Case_ID': 0,\n",
       " 'Country': 0,\n",
       " 'Pollutant_Type': 0,\n",
       " 'Crop_Type': 0,\n",
       " 'Farming_Practice': 0,\n",
       " 'Nearby_Industry': 0,\n",
       " 'Water_Source_Type': 0,\n",
       " 'Soil_Texture': 0,\n",
       " 'Disease_Type': 0,\n",
       " 'Disease_Severity': 0,\n",
       " 'Health_Symptoms': 0,\n",
       " 'Age_Group_Affected': 0,\n",
       " 'Gender_Most_Affected': 0,\n",
       " 'Mitigation_Measure': 0,\n",
       " 'Case_Resolved': 0,\n",
       " 'Follow_Up_Required': 0}"
      ]
     },
     "execution_count": 11,
     "metadata": {},
     "output_type": "execute_result"
    }
   ],
   "source": [
    "# Kolom kategorikal\n",
    "Dict_Null = {col:df_string.filter(df_string[col].isNull()).count() for col in df_string.columns}\n",
    "Dict_Null"
   ]
  },
  {
   "cell_type": "code",
   "execution_count": 12,
   "id": "3a8ad601-f3d3-4e25-bc0c-f51a5ae60c9a",
   "metadata": {},
   "outputs": [
    {
     "name": "stdout",
     "output_type": "stream",
     "text": [
      "Unique values in column 'Case_ID':\n",
      "+-----------+\n",
      "|    Case_ID|\n",
      "+-----------+\n",
      "|CASE_100050|\n",
      "|CASE_100228|\n",
      "|CASE_100335|\n",
      "|CASE_100512|\n",
      "|CASE_100896|\n",
      "|CASE_101065|\n",
      "|CASE_101085|\n",
      "|CASE_101191|\n",
      "|CASE_101674|\n",
      "|CASE_101693|\n",
      "|CASE_101805|\n",
      "|CASE_102166|\n",
      "|CASE_102167|\n",
      "|CASE_102708|\n",
      "|CASE_102803|\n",
      "|CASE_102810|\n",
      "|CASE_100090|\n",
      "|CASE_100139|\n",
      "|CASE_100317|\n",
      "|CASE_100978|\n",
      "+-----------+\n",
      "only showing top 20 rows\n",
      "\n",
      "Unique values in column 'Country':\n",
      "+---------+\n",
      "|  Country|\n",
      "+---------+\n",
      "|  Germany|\n",
      "|    India|\n",
      "|    China|\n",
      "|  Nigeria|\n",
      "|      USA|\n",
      "|   Mexico|\n",
      "|   Brazil|\n",
      "|    Kenya|\n",
      "|Australia|\n",
      "| Pakistan|\n",
      "+---------+\n",
      "\n",
      "Unique values in column 'Pollutant_Type':\n",
      "+--------------+\n",
      "|Pollutant_Type|\n",
      "+--------------+\n",
      "|       Arsenic|\n",
      "|    Pesticides|\n",
      "|          Lead|\n",
      "|       Mercury|\n",
      "|       Cadmium|\n",
      "|      Chromium|\n",
      "+--------------+\n",
      "\n",
      "Unique values in column 'Crop_Type':\n",
      "+---------+\n",
      "|Crop_Type|\n",
      "+---------+\n",
      "|  Soybean|\n",
      "|   Potato|\n",
      "|    Wheat|\n",
      "|   Cotton|\n",
      "|     Rice|\n",
      "|     Corn|\n",
      "+---------+\n",
      "\n",
      "Unique values in column 'Farming_Practice':\n",
      "+----------------+\n",
      "|Farming_Practice|\n",
      "+----------------+\n",
      "|    Conventional|\n",
      "|         Organic|\n",
      "|      Integrated|\n",
      "|    Permaculture|\n",
      "+----------------+\n",
      "\n",
      "Unique values in column 'Nearby_Industry':\n",
      "+---------------+\n",
      "|Nearby_Industry|\n",
      "+---------------+\n",
      "|           None|\n",
      "|       Chemical|\n",
      "|         Mining|\n",
      "|        Textile|\n",
      "|    Agriculture|\n",
      "+---------------+\n",
      "\n",
      "Unique values in column 'Water_Source_Type':\n",
      "+-----------------+\n",
      "|Water_Source_Type|\n",
      "+-----------------+\n",
      "|             Well|\n",
      "|             Lake|\n",
      "|            River|\n",
      "|        Rainwater|\n",
      "| Irrigation Canal|\n",
      "+-----------------+\n",
      "\n",
      "Unique values in column 'Soil_Texture':\n",
      "+------------+\n",
      "|Soil_Texture|\n",
      "+------------+\n",
      "|       Silty|\n",
      "|       Sandy|\n",
      "|        Clay|\n",
      "|       Loamy|\n",
      "+------------+\n",
      "\n",
      "Unique values in column 'Disease_Type':\n",
      "+--------------------+\n",
      "|        Disease_Type|\n",
      "+--------------------+\n",
      "|Gastrointestinal ...|\n",
      "|  Respiratory Issues|\n",
      "|              Cancer|\n",
      "|Neurological Diso...|\n",
      "|        Skin Disease|\n",
      "+--------------------+\n",
      "\n",
      "Unique values in column 'Disease_Severity':\n",
      "+----------------+\n",
      "|Disease_Severity|\n",
      "+----------------+\n",
      "|          Severe|\n",
      "|            Mild|\n",
      "|        Moderate|\n",
      "+----------------+\n",
      "\n",
      "Unique values in column 'Health_Symptoms':\n",
      "+--------------------+\n",
      "|     Health_Symptoms|\n",
      "+--------------------+\n",
      "|              Nausea|\n",
      "|            Headache|\n",
      "|                Rash|\n",
      "|      Abdominal Pain|\n",
      "|             Fatigue|\n",
      "|Breathing Difficulty|\n",
      "+--------------------+\n",
      "\n",
      "Unique values in column 'Age_Group_Affected':\n",
      "+------------------+\n",
      "|Age_Group_Affected|\n",
      "+------------------+\n",
      "|           Elderly|\n",
      "|          Children|\n",
      "|            Adults|\n",
      "+------------------+\n",
      "\n",
      "Unique values in column 'Gender_Most_Affected':\n",
      "+--------------------+\n",
      "|Gender_Most_Affected|\n",
      "+--------------------+\n",
      "|              Female|\n",
      "|                Both|\n",
      "|                Male|\n",
      "+--------------------+\n",
      "\n",
      "Unique values in column 'Mitigation_Measure':\n",
      "+--------------------+\n",
      "|  Mitigation_Measure|\n",
      "+--------------------+\n",
      "|Chemical Neutrali...|\n",
      "|    Soil Remediation|\n",
      "|Government Regula...|\n",
      "| Community Awareness|\n",
      "|       Crop Rotation|\n",
      "+--------------------+\n",
      "\n",
      "Unique values in column 'Case_Resolved':\n",
      "+-------------+\n",
      "|Case_Resolved|\n",
      "+-------------+\n",
      "|           No|\n",
      "|          Yes|\n",
      "+-------------+\n",
      "\n",
      "Unique values in column 'Follow_Up_Required':\n",
      "+------------------+\n",
      "|Follow_Up_Required|\n",
      "+------------------+\n",
      "|                No|\n",
      "|               Yes|\n",
      "+------------------+\n",
      "\n"
     ]
    }
   ],
   "source": [
    "for col in df_string.columns:\n",
    "    print(f\"Unique values in column '{col}':\")\n",
    "    df_string.select(col).distinct().show()"
   ]
  },
  {
   "cell_type": "markdown",
   "id": "1e8b2326-e4b1-4f13-99c9-8d50a4e4e0f0",
   "metadata": {},
   "source": [
    "*Didapatkan bahwa terdapat value 'None' pada kolom Nearby_Industry sehingga perlu didrop karena jumlahnya relatif rendah serta tidak reprsentatif jika diubah menggunakan central measurement*"
   ]
  },
  {
   "cell_type": "code",
   "execution_count": 13,
   "id": "c8c5cb26-041f-4a6f-a240-0f24f7ae9c5a",
   "metadata": {},
   "outputs": [],
   "source": [
    "# Drop 'None' dari kolom Nearby_Industry\n",
    "df = df.filter(df.Nearby_Industry != 'None')"
   ]
  },
  {
   "cell_type": "code",
   "execution_count": 14,
   "id": "97b83a1a-6a15-411d-8962-e83d3b9dec0e",
   "metadata": {},
   "outputs": [
    {
     "name": "stdout",
     "output_type": "stream",
     "text": [
      "+---------------+\n",
      "|Nearby_Industry|\n",
      "+---------------+\n",
      "|       Chemical|\n",
      "|         Mining|\n",
      "|        Textile|\n",
      "|    Agriculture|\n",
      "+---------------+\n",
      "\n"
     ]
    }
   ],
   "source": [
    "df.select('Nearby_Industry').distinct().show()"
   ]
  },
  {
   "cell_type": "code",
   "execution_count": 15,
   "id": "365a8498-3e98-4e05-8100-7fb3ccb7afe9",
   "metadata": {},
   "outputs": [
    {
     "data": {
      "text/plain": [
       "2418"
      ]
     },
     "execution_count": 15,
     "metadata": {},
     "output_type": "execute_result"
    }
   ],
   "source": [
    "df.count()"
   ]
  },
  {
   "cell_type": "markdown",
   "id": "287419d0-e14c-4bdd-b24b-9503d7bce574",
   "metadata": {
    "jp-MarkdownHeadingCollapsed": true
   },
   "source": [
    "### Inconsistent Format\n",
    "\n",
    "Mengubah tipe data Case_Resolved dan Follow_Up_Required"
   ]
  },
  {
   "cell_type": "code",
   "execution_count": 16,
   "id": "b7c2c016-9820-449a-bf06-b9c1e8075478",
   "metadata": {},
   "outputs": [],
   "source": [
    "from pyspark.sql.functions import when\n",
    "df = df.withColumn(\n",
    "    \"Case_Resolved\",\n",
    "    when(df[\"Case_Resolved\"] == \"Yes\", True)\n",
    "    .when(df[\"Case_Resolved\"] == \"No\", False)\n",
    "    .otherwise(None))\n",
    "\n",
    "df = df.withColumn(\n",
    "    \"Follow_Up_Required\",\n",
    "    when(df[\"Follow_Up_Required\"] == \"Yes\", True)\n",
    "    .when(df[\"Follow_Up_Required\"] == \"No\", False)\n",
    "    .otherwise(None))"
   ]
  },
  {
   "cell_type": "code",
   "execution_count": 17,
   "id": "5fe8712d-05d4-4c9f-924b-58289bf83d37",
   "metadata": {},
   "outputs": [
    {
     "name": "stdout",
     "output_type": "stream",
     "text": [
      "+-------------+\n",
      "|Case_Resolved|\n",
      "+-------------+\n",
      "|         true|\n",
      "|        false|\n",
      "+-------------+\n",
      "\n",
      "+------------------+\n",
      "|Follow_Up_Required|\n",
      "+------------------+\n",
      "|              true|\n",
      "|             false|\n",
      "+------------------+\n",
      "\n"
     ]
    }
   ],
   "source": [
    "df.select('Case_Resolved').distinct().show()\n",
    "df.select('Follow_Up_Required').distinct().show()"
   ]
  },
  {
   "cell_type": "markdown",
   "id": "423ec4c7-ce43-450b-9698-0e67a8817752",
   "metadata": {
    "jp-MarkdownHeadingCollapsed": true
   },
   "source": [
    "### Create Tables\n",
    "\n",
    "Mengelompokkan kolom berdasarkan dim & factnya"
   ]
  },
  {
   "cell_type": "code",
   "execution_count": 18,
   "id": "f42e9f6c-4b1e-4312-a2db-bec92cbc732d",
   "metadata": {},
   "outputs": [],
   "source": [
    "case = df.select(\"Case_ID\",\n",
    "                 \"Date_Reported\",\n",
    "                 \"Country\",\n",
    "                 \"Mitigation_Measure\",\n",
    "                 \"Case_Resolved\", \n",
    "                 \"Follow_Up_Required\")"
   ]
  },
  {
   "cell_type": "code",
   "execution_count": 20,
   "id": "53f45dec-12ac-4bcd-a176-738b05b2f245",
   "metadata": {},
   "outputs": [],
   "source": [
    "pollutant = df.select(\"Case_ID\",\n",
    "                      \"Pollutant_Type\",\n",
    "                      \"Pollutant_Concentration_mg_kg\")"
   ]
  },
  {
   "cell_type": "code",
   "execution_count": 21,
   "id": "67362034-ea7f-4c3a-9033-dda4cf0af839",
   "metadata": {},
   "outputs": [],
   "source": [
    "soil = df.select(\"Case_ID\",\n",
    "                 \"Soil_pH\",\n",
    "                 \"Temperature_C\",\n",
    "                 \"Humidity_%\",\n",
    "                 \"Rainfall_mm\",\n",
    "                 \"Soil_Texture\", \n",
    "                 \"Soil_Organic_Matter_%\")"
   ]
  },
  {
   "cell_type": "code",
   "execution_count": 22,
   "id": "71c6f80a-7b00-46f5-870a-c8c7078b3af5",
   "metadata": {},
   "outputs": [],
   "source": [
    "soil = df.select(\"Case_ID\",\n",
    "                 \"Crop_Type\",\n",
    "                 \"Farming_Practice\",\n",
    "                 \"Water_Source_Type\")"
   ]
  },
  {
   "cell_type": "code",
   "execution_count": null,
   "id": "80a834b2-b2f1-428b-aab8-a91d8947a1d5",
   "metadata": {},
   "outputs": [],
   "source": []
  }
 ],
 "metadata": {
  "kernelspec": {
   "display_name": "Python 3 (ipykernel)",
   "language": "python",
   "name": "python3"
  },
  "language_info": {
   "codemirror_mode": {
    "name": "ipython",
    "version": 3
   },
   "file_extension": ".py",
   "mimetype": "text/x-python",
   "name": "python",
   "nbconvert_exporter": "python",
   "pygments_lexer": "ipython3",
   "version": "3.12.9"
  }
 },
 "nbformat": 4,
 "nbformat_minor": 5
}
