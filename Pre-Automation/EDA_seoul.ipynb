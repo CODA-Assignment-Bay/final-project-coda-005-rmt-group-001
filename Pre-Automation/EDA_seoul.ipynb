{
 "cells": [
  {
   "cell_type": "code",
   "execution_count": 4,
   "id": "e0d04fb9",
   "metadata": {},
   "outputs": [],
   "source": [
    "import pandas as pd"
   ]
  },
  {
   "cell_type": "markdown",
   "id": "aaa21860",
   "metadata": {},
   "source": [
    "# Measurement Info"
   ]
  },
  {
   "cell_type": "code",
   "execution_count": 5,
   "id": "ba6d01ad",
   "metadata": {},
   "outputs": [
    {
     "data": {
      "text/html": [
       "<div>\n",
       "<style scoped>\n",
       "    .dataframe tbody tr th:only-of-type {\n",
       "        vertical-align: middle;\n",
       "    }\n",
       "\n",
       "    .dataframe tbody tr th {\n",
       "        vertical-align: top;\n",
       "    }\n",
       "\n",
       "    .dataframe thead th {\n",
       "        text-align: right;\n",
       "    }\n",
       "</style>\n",
       "<table border=\"1\" class=\"dataframe\">\n",
       "  <thead>\n",
       "    <tr style=\"text-align: right;\">\n",
       "      <th></th>\n",
       "      <th>Measurement date</th>\n",
       "      <th>Station code</th>\n",
       "      <th>Item code</th>\n",
       "      <th>Average value</th>\n",
       "      <th>Instrument status</th>\n",
       "    </tr>\n",
       "  </thead>\n",
       "  <tbody>\n",
       "    <tr>\n",
       "      <th>483025</th>\n",
       "      <td>2017-05-15 04:00</td>\n",
       "      <td>105</td>\n",
       "      <td>3</td>\n",
       "      <td>0.027</td>\n",
       "      <td>0</td>\n",
       "    </tr>\n",
       "    <tr>\n",
       "      <th>1642685</th>\n",
       "      <td>2018-04-02 07:00</td>\n",
       "      <td>106</td>\n",
       "      <td>9</td>\n",
       "      <td>37.000</td>\n",
       "      <td>0</td>\n",
       "    </tr>\n",
       "    <tr>\n",
       "      <th>3150885</th>\n",
       "      <td>2019-06-06 12:00</td>\n",
       "      <td>114</td>\n",
       "      <td>9</td>\n",
       "      <td>43.000</td>\n",
       "      <td>0</td>\n",
       "    </tr>\n",
       "    <tr>\n",
       "      <th>3004929</th>\n",
       "      <td>2019-04-25 00:00</td>\n",
       "      <td>113</td>\n",
       "      <td>1</td>\n",
       "      <td>0.004</td>\n",
       "      <td>0</td>\n",
       "    </tr>\n",
       "    <tr>\n",
       "      <th>1905901</th>\n",
       "      <td>2018-06-14 10:00</td>\n",
       "      <td>101</td>\n",
       "      <td>3</td>\n",
       "      <td>0.025</td>\n",
       "      <td>0</td>\n",
       "    </tr>\n",
       "  </tbody>\n",
       "</table>\n",
       "</div>"
      ],
      "text/plain": [
       "         Measurement date  Station code  Item code  Average value  \\\n",
       "483025   2017-05-15 04:00           105          3          0.027   \n",
       "1642685  2018-04-02 07:00           106          9         37.000   \n",
       "3150885  2019-06-06 12:00           114          9         43.000   \n",
       "3004929  2019-04-25 00:00           113          1          0.004   \n",
       "1905901  2018-06-14 10:00           101          3          0.025   \n",
       "\n",
       "         Instrument status  \n",
       "483025                   0  \n",
       "1642685                  0  \n",
       "3150885                  0  \n",
       "3004929                  0  \n",
       "1905901                  0  "
      ]
     },
     "execution_count": 5,
     "metadata": {},
     "output_type": "execute_result"
    }
   ],
   "source": [
    "measurement = pd.read_csv(\"Measurement_info.csv\")\n",
    "#pd.set_option('display.max_columns', None)\n",
    "measurement.sample(5)"
   ]
  },
  {
   "cell_type": "code",
   "execution_count": 24,
   "id": "f96469e2",
   "metadata": {},
   "outputs": [
    {
     "data": {
      "text/plain": [
       "Index(['Measurement date', 'Station code', 'Item code', 'Average value',\n",
       "       'Instrument status'],\n",
       "      dtype='object')"
      ]
     },
     "execution_count": 24,
     "metadata": {},
     "output_type": "execute_result"
    }
   ],
   "source": [
    "measurement.columns"
   ]
  },
  {
   "cell_type": "code",
   "execution_count": 6,
   "id": "be87bef7",
   "metadata": {},
   "outputs": [
    {
     "name": "stdout",
     "output_type": "stream",
     "text": [
      "<class 'pandas.core.frame.DataFrame'>\n",
      "RangeIndex: 3885066 entries, 0 to 3885065\n",
      "Data columns (total 5 columns):\n",
      " #   Column             Dtype  \n",
      "---  ------             -----  \n",
      " 0   Measurement date   object \n",
      " 1   Station code       int64  \n",
      " 2   Item code          int64  \n",
      " 3   Average value      float64\n",
      " 4   Instrument status  int64  \n",
      "dtypes: float64(1), int64(3), object(1)\n",
      "memory usage: 148.2+ MB\n"
     ]
    }
   ],
   "source": [
    "measurement.info()"
   ]
  },
  {
   "cell_type": "code",
   "execution_count": 7,
   "id": "939909f6",
   "metadata": {},
   "outputs": [
    {
     "data": {
      "text/html": [
       "<div>\n",
       "<style scoped>\n",
       "    .dataframe tbody tr th:only-of-type {\n",
       "        vertical-align: middle;\n",
       "    }\n",
       "\n",
       "    .dataframe tbody tr th {\n",
       "        vertical-align: top;\n",
       "    }\n",
       "\n",
       "    .dataframe thead th {\n",
       "        text-align: right;\n",
       "    }\n",
       "</style>\n",
       "<table border=\"1\" class=\"dataframe\">\n",
       "  <thead>\n",
       "    <tr style=\"text-align: right;\">\n",
       "      <th></th>\n",
       "      <th>Station code</th>\n",
       "      <th>Item code</th>\n",
       "      <th>Average value</th>\n",
       "      <th>Instrument status</th>\n",
       "    </tr>\n",
       "  </thead>\n",
       "  <tbody>\n",
       "    <tr>\n",
       "      <th>count</th>\n",
       "      <td>3.885066e+06</td>\n",
       "      <td>3.885066e+06</td>\n",
       "      <td>3.885066e+06</td>\n",
       "      <td>3.885066e+06</td>\n",
       "    </tr>\n",
       "    <tr>\n",
       "      <th>mean</th>\n",
       "      <td>1.130002e+02</td>\n",
       "      <td>5.333333e+00</td>\n",
       "      <td>1.161132e+01</td>\n",
       "      <td>1.471890e-01</td>\n",
       "    </tr>\n",
       "    <tr>\n",
       "      <th>std</th>\n",
       "      <td>7.211310e+00</td>\n",
       "      <td>2.748737e+00</td>\n",
       "      <td>3.816098e+01</td>\n",
       "      <td>1.021642e+00</td>\n",
       "    </tr>\n",
       "    <tr>\n",
       "      <th>min</th>\n",
       "      <td>1.010000e+02</td>\n",
       "      <td>1.000000e+00</td>\n",
       "      <td>-1.000000e+00</td>\n",
       "      <td>0.000000e+00</td>\n",
       "    </tr>\n",
       "    <tr>\n",
       "      <th>25%</th>\n",
       "      <td>1.070000e+02</td>\n",
       "      <td>3.000000e+00</td>\n",
       "      <td>1.200000e-02</td>\n",
       "      <td>0.000000e+00</td>\n",
       "    </tr>\n",
       "    <tr>\n",
       "      <th>50%</th>\n",
       "      <td>1.130000e+02</td>\n",
       "      <td>5.500000e+00</td>\n",
       "      <td>7.000000e-02</td>\n",
       "      <td>0.000000e+00</td>\n",
       "    </tr>\n",
       "    <tr>\n",
       "      <th>75%</th>\n",
       "      <td>1.190000e+02</td>\n",
       "      <td>8.000000e+00</td>\n",
       "      <td>1.500000e+01</td>\n",
       "      <td>0.000000e+00</td>\n",
       "    </tr>\n",
       "    <tr>\n",
       "      <th>max</th>\n",
       "      <td>1.250000e+02</td>\n",
       "      <td>9.000000e+00</td>\n",
       "      <td>6.256000e+03</td>\n",
       "      <td>9.000000e+00</td>\n",
       "    </tr>\n",
       "  </tbody>\n",
       "</table>\n",
       "</div>"
      ],
      "text/plain": [
       "       Station code     Item code  Average value  Instrument status\n",
       "count  3.885066e+06  3.885066e+06   3.885066e+06       3.885066e+06\n",
       "mean   1.130002e+02  5.333333e+00   1.161132e+01       1.471890e-01\n",
       "std    7.211310e+00  2.748737e+00   3.816098e+01       1.021642e+00\n",
       "min    1.010000e+02  1.000000e+00  -1.000000e+00       0.000000e+00\n",
       "25%    1.070000e+02  3.000000e+00   1.200000e-02       0.000000e+00\n",
       "50%    1.130000e+02  5.500000e+00   7.000000e-02       0.000000e+00\n",
       "75%    1.190000e+02  8.000000e+00   1.500000e+01       0.000000e+00\n",
       "max    1.250000e+02  9.000000e+00   6.256000e+03       9.000000e+00"
      ]
     },
     "execution_count": 7,
     "metadata": {},
     "output_type": "execute_result"
    }
   ],
   "source": [
    "measurement.describe()"
   ]
  },
  {
   "cell_type": "code",
   "execution_count": 27,
   "id": "67a5c0a1",
   "metadata": {},
   "outputs": [
    {
     "data": {
      "text/html": [
       "<div>\n",
       "<style scoped>\n",
       "    .dataframe tbody tr th:only-of-type {\n",
       "        vertical-align: middle;\n",
       "    }\n",
       "\n",
       "    .dataframe tbody tr th {\n",
       "        vertical-align: top;\n",
       "    }\n",
       "\n",
       "    .dataframe thead th {\n",
       "        text-align: right;\n",
       "    }\n",
       "</style>\n",
       "<table border=\"1\" class=\"dataframe\">\n",
       "  <thead>\n",
       "    <tr style=\"text-align: right;\">\n",
       "      <th></th>\n",
       "      <th>Measurement date</th>\n",
       "    </tr>\n",
       "  </thead>\n",
       "  <tbody>\n",
       "    <tr>\n",
       "      <th>count</th>\n",
       "      <td>3885066</td>\n",
       "    </tr>\n",
       "    <tr>\n",
       "      <th>unique</th>\n",
       "      <td>25906</td>\n",
       "    </tr>\n",
       "    <tr>\n",
       "      <th>top</th>\n",
       "      <td>2017-01-01 00:00</td>\n",
       "    </tr>\n",
       "    <tr>\n",
       "      <th>freq</th>\n",
       "      <td>150</td>\n",
       "    </tr>\n",
       "  </tbody>\n",
       "</table>\n",
       "</div>"
      ],
      "text/plain": [
       "        Measurement date\n",
       "count            3885066\n",
       "unique             25906\n",
       "top     2017-01-01 00:00\n",
       "freq                 150"
      ]
     },
     "execution_count": 27,
     "metadata": {},
     "output_type": "execute_result"
    }
   ],
   "source": [
    "measurement.describe(include=\"object\")"
   ]
  },
  {
   "cell_type": "code",
   "execution_count": 28,
   "id": "15aed28b",
   "metadata": {},
   "outputs": [
    {
     "data": {
      "text/plain": [
       "Measurement date     0.0\n",
       "Station code         0.0\n",
       "Item code            0.0\n",
       "Average value        0.0\n",
       "Instrument status    0.0\n",
       "dtype: float64"
      ]
     },
     "execution_count": 28,
     "metadata": {},
     "output_type": "execute_result"
    }
   ],
   "source": [
    "measurement.isnull().sum().sort_values(ascending=False)/len(measurement)*100"
   ]
  },
  {
   "cell_type": "code",
   "execution_count": 29,
   "id": "c087d753",
   "metadata": {},
   "outputs": [
    {
     "data": {
      "text/html": [
       "<div>\n",
       "<style scoped>\n",
       "    .dataframe tbody tr th:only-of-type {\n",
       "        vertical-align: middle;\n",
       "    }\n",
       "\n",
       "    .dataframe tbody tr th {\n",
       "        vertical-align: top;\n",
       "    }\n",
       "\n",
       "    .dataframe thead th {\n",
       "        text-align: right;\n",
       "    }\n",
       "</style>\n",
       "<table border=\"1\" class=\"dataframe\">\n",
       "  <thead>\n",
       "    <tr style=\"text-align: right;\">\n",
       "      <th></th>\n",
       "      <th>Measurement date</th>\n",
       "      <th>Station code</th>\n",
       "      <th>Item code</th>\n",
       "      <th>Average value</th>\n",
       "      <th>Instrument status</th>\n",
       "    </tr>\n",
       "  </thead>\n",
       "  <tbody>\n",
       "  </tbody>\n",
       "</table>\n",
       "</div>"
      ],
      "text/plain": [
       "Empty DataFrame\n",
       "Columns: [Measurement date, Station code, Item code, Average value, Instrument status]\n",
       "Index: []"
      ]
     },
     "execution_count": 29,
     "metadata": {},
     "output_type": "execute_result"
    }
   ],
   "source": [
    "measurement[measurement.duplicated()]"
   ]
  },
  {
   "cell_type": "markdown",
   "id": "2adce698",
   "metadata": {},
   "source": [
    "## Measurement Info (sample dataframe)"
   ]
  },
  {
   "cell_type": "markdown",
   "id": "879b82cd",
   "metadata": {},
   "source": [
    "Dibuat untuk mengatasi keterbatasan penyimpanan di github"
   ]
  },
  {
   "cell_type": "code",
   "execution_count": 14,
   "id": "064a2d53",
   "metadata": {},
   "outputs": [],
   "source": [
    "#measurement_sample = measurement.sample(frac=0.4, random_state=1)\n",
    "#measurement_sample.to_csv('measurement_sample.csv', index=False)\n",
    "#measurement_sample"
   ]
  },
  {
   "cell_type": "markdown",
   "id": "834f8573",
   "metadata": {},
   "source": [
    "# Measurement Item"
   ]
  },
  {
   "cell_type": "code",
   "execution_count": 12,
   "id": "abc979bd",
   "metadata": {},
   "outputs": [
    {
     "data": {
      "text/html": [
       "<div>\n",
       "<style scoped>\n",
       "    .dataframe tbody tr th:only-of-type {\n",
       "        vertical-align: middle;\n",
       "    }\n",
       "\n",
       "    .dataframe tbody tr th {\n",
       "        vertical-align: top;\n",
       "    }\n",
       "\n",
       "    .dataframe thead th {\n",
       "        text-align: right;\n",
       "    }\n",
       "</style>\n",
       "<table border=\"1\" class=\"dataframe\">\n",
       "  <thead>\n",
       "    <tr style=\"text-align: right;\">\n",
       "      <th></th>\n",
       "      <th>Item code</th>\n",
       "      <th>Item name</th>\n",
       "      <th>Unit of measurement</th>\n",
       "      <th>Good(Blue)</th>\n",
       "      <th>Normal(Green)</th>\n",
       "      <th>Bad(Yellow)</th>\n",
       "      <th>Very bad(Red)</th>\n",
       "    </tr>\n",
       "  </thead>\n",
       "  <tbody>\n",
       "    <tr>\n",
       "      <th>1</th>\n",
       "      <td>3</td>\n",
       "      <td>NO2</td>\n",
       "      <td>ppm</td>\n",
       "      <td>0.03</td>\n",
       "      <td>0.06</td>\n",
       "      <td>0.20</td>\n",
       "      <td>2.0</td>\n",
       "    </tr>\n",
       "    <tr>\n",
       "      <th>2</th>\n",
       "      <td>5</td>\n",
       "      <td>CO</td>\n",
       "      <td>ppm</td>\n",
       "      <td>2.00</td>\n",
       "      <td>9.00</td>\n",
       "      <td>15.00</td>\n",
       "      <td>50.0</td>\n",
       "    </tr>\n",
       "    <tr>\n",
       "      <th>3</th>\n",
       "      <td>6</td>\n",
       "      <td>O3</td>\n",
       "      <td>ppm</td>\n",
       "      <td>0.03</td>\n",
       "      <td>0.09</td>\n",
       "      <td>0.15</td>\n",
       "      <td>0.5</td>\n",
       "    </tr>\n",
       "    <tr>\n",
       "      <th>5</th>\n",
       "      <td>9</td>\n",
       "      <td>PM2.5</td>\n",
       "      <td>Mircrogram/m3</td>\n",
       "      <td>15.00</td>\n",
       "      <td>35.00</td>\n",
       "      <td>75.00</td>\n",
       "      <td>500.0</td>\n",
       "    </tr>\n",
       "    <tr>\n",
       "      <th>4</th>\n",
       "      <td>8</td>\n",
       "      <td>PM10</td>\n",
       "      <td>Mircrogram/m3</td>\n",
       "      <td>30.00</td>\n",
       "      <td>80.00</td>\n",
       "      <td>150.00</td>\n",
       "      <td>600.0</td>\n",
       "    </tr>\n",
       "    <tr>\n",
       "      <th>0</th>\n",
       "      <td>1</td>\n",
       "      <td>SO2</td>\n",
       "      <td>ppm</td>\n",
       "      <td>0.02</td>\n",
       "      <td>0.05</td>\n",
       "      <td>0.15</td>\n",
       "      <td>1.0</td>\n",
       "    </tr>\n",
       "  </tbody>\n",
       "</table>\n",
       "</div>"
      ],
      "text/plain": [
       "   Item code Item name Unit of measurement  Good(Blue)  Normal(Green)  \\\n",
       "1          3       NO2                 ppm        0.03           0.06   \n",
       "2          5        CO                 ppm        2.00           9.00   \n",
       "3          6        O3                 ppm        0.03           0.09   \n",
       "5          9     PM2.5       Mircrogram/m3       15.00          35.00   \n",
       "4          8      PM10       Mircrogram/m3       30.00          80.00   \n",
       "0          1       SO2                 ppm        0.02           0.05   \n",
       "\n",
       "   Bad(Yellow)  Very bad(Red)  \n",
       "1         0.20            2.0  \n",
       "2        15.00           50.0  \n",
       "3         0.15            0.5  \n",
       "5        75.00          500.0  \n",
       "4       150.00          600.0  \n",
       "0         0.15            1.0  "
      ]
     },
     "execution_count": 12,
     "metadata": {},
     "output_type": "execute_result"
    }
   ],
   "source": [
    "measurement_item = pd.read_csv(\"Measurement_item_info.csv\")\n",
    "#pd.set_option('display.max_columns', None)\n",
    "measurement_item.sample(6)"
   ]
  },
  {
   "cell_type": "code",
   "execution_count": 34,
   "id": "5a95a265",
   "metadata": {},
   "outputs": [
    {
     "data": {
      "text/plain": [
       "Index(['Item code', 'Item name', 'Unit of measurement', 'Good(Blue)',\n",
       "       'Normal(Green)', 'Bad(Yellow)', 'Very bad(Red)'],\n",
       "      dtype='object')"
      ]
     },
     "execution_count": 34,
     "metadata": {},
     "output_type": "execute_result"
    }
   ],
   "source": [
    "measurement_item.columns"
   ]
  },
  {
   "cell_type": "code",
   "execution_count": 35,
   "id": "609aa2b0",
   "metadata": {},
   "outputs": [
    {
     "name": "stdout",
     "output_type": "stream",
     "text": [
      "<class 'pandas.core.frame.DataFrame'>\n",
      "RangeIndex: 6 entries, 0 to 5\n",
      "Data columns (total 7 columns):\n",
      " #   Column               Non-Null Count  Dtype  \n",
      "---  ------               --------------  -----  \n",
      " 0   Item code            6 non-null      int64  \n",
      " 1   Item name            6 non-null      object \n",
      " 2   Unit of measurement  6 non-null      object \n",
      " 3   Good(Blue)           6 non-null      float64\n",
      " 4   Normal(Green)        6 non-null      float64\n",
      " 5   Bad(Yellow)          6 non-null      float64\n",
      " 6   Very bad(Red)        6 non-null      float64\n",
      "dtypes: float64(4), int64(1), object(2)\n",
      "memory usage: 464.0+ bytes\n"
     ]
    }
   ],
   "source": [
    "measurement_item.info()"
   ]
  },
  {
   "cell_type": "code",
   "execution_count": 36,
   "id": "c9a2fa8b",
   "metadata": {},
   "outputs": [
    {
     "data": {
      "text/html": [
       "<div>\n",
       "<style scoped>\n",
       "    .dataframe tbody tr th:only-of-type {\n",
       "        vertical-align: middle;\n",
       "    }\n",
       "\n",
       "    .dataframe tbody tr th {\n",
       "        vertical-align: top;\n",
       "    }\n",
       "\n",
       "    .dataframe thead th {\n",
       "        text-align: right;\n",
       "    }\n",
       "</style>\n",
       "<table border=\"1\" class=\"dataframe\">\n",
       "  <thead>\n",
       "    <tr style=\"text-align: right;\">\n",
       "      <th></th>\n",
       "      <th>Item code</th>\n",
       "      <th>Good(Blue)</th>\n",
       "      <th>Normal(Green)</th>\n",
       "      <th>Bad(Yellow)</th>\n",
       "      <th>Very bad(Red)</th>\n",
       "    </tr>\n",
       "  </thead>\n",
       "  <tbody>\n",
       "    <tr>\n",
       "      <th>count</th>\n",
       "      <td>6.000000</td>\n",
       "      <td>6.000000</td>\n",
       "      <td>6.000000</td>\n",
       "      <td>6.000000</td>\n",
       "      <td>6.000000</td>\n",
       "    </tr>\n",
       "    <tr>\n",
       "      <th>mean</th>\n",
       "      <td>5.333333</td>\n",
       "      <td>7.846667</td>\n",
       "      <td>20.700000</td>\n",
       "      <td>40.083333</td>\n",
       "      <td>192.250000</td>\n",
       "    </tr>\n",
       "    <tr>\n",
       "      <th>std</th>\n",
       "      <td>3.011091</td>\n",
       "      <td>12.325430</td>\n",
       "      <td>32.047072</td>\n",
       "      <td>61.171960</td>\n",
       "      <td>279.551382</td>\n",
       "    </tr>\n",
       "    <tr>\n",
       "      <th>min</th>\n",
       "      <td>1.000000</td>\n",
       "      <td>0.020000</td>\n",
       "      <td>0.050000</td>\n",
       "      <td>0.150000</td>\n",
       "      <td>0.500000</td>\n",
       "    </tr>\n",
       "    <tr>\n",
       "      <th>25%</th>\n",
       "      <td>3.500000</td>\n",
       "      <td>0.030000</td>\n",
       "      <td>0.067500</td>\n",
       "      <td>0.162500</td>\n",
       "      <td>1.250000</td>\n",
       "    </tr>\n",
       "    <tr>\n",
       "      <th>50%</th>\n",
       "      <td>5.500000</td>\n",
       "      <td>1.015000</td>\n",
       "      <td>4.545000</td>\n",
       "      <td>7.600000</td>\n",
       "      <td>26.000000</td>\n",
       "    </tr>\n",
       "    <tr>\n",
       "      <th>75%</th>\n",
       "      <td>7.500000</td>\n",
       "      <td>11.750000</td>\n",
       "      <td>28.500000</td>\n",
       "      <td>60.000000</td>\n",
       "      <td>387.500000</td>\n",
       "    </tr>\n",
       "    <tr>\n",
       "      <th>max</th>\n",
       "      <td>9.000000</td>\n",
       "      <td>30.000000</td>\n",
       "      <td>80.000000</td>\n",
       "      <td>150.000000</td>\n",
       "      <td>600.000000</td>\n",
       "    </tr>\n",
       "  </tbody>\n",
       "</table>\n",
       "</div>"
      ],
      "text/plain": [
       "       Item code  Good(Blue)  Normal(Green)  Bad(Yellow)  Very bad(Red)\n",
       "count   6.000000    6.000000       6.000000     6.000000       6.000000\n",
       "mean    5.333333    7.846667      20.700000    40.083333     192.250000\n",
       "std     3.011091   12.325430      32.047072    61.171960     279.551382\n",
       "min     1.000000    0.020000       0.050000     0.150000       0.500000\n",
       "25%     3.500000    0.030000       0.067500     0.162500       1.250000\n",
       "50%     5.500000    1.015000       4.545000     7.600000      26.000000\n",
       "75%     7.500000   11.750000      28.500000    60.000000     387.500000\n",
       "max     9.000000   30.000000      80.000000   150.000000     600.000000"
      ]
     },
     "execution_count": 36,
     "metadata": {},
     "output_type": "execute_result"
    }
   ],
   "source": [
    "measurement_item.describe()"
   ]
  },
  {
   "cell_type": "code",
   "execution_count": 37,
   "id": "48917072",
   "metadata": {},
   "outputs": [
    {
     "data": {
      "text/html": [
       "<div>\n",
       "<style scoped>\n",
       "    .dataframe tbody tr th:only-of-type {\n",
       "        vertical-align: middle;\n",
       "    }\n",
       "\n",
       "    .dataframe tbody tr th {\n",
       "        vertical-align: top;\n",
       "    }\n",
       "\n",
       "    .dataframe thead th {\n",
       "        text-align: right;\n",
       "    }\n",
       "</style>\n",
       "<table border=\"1\" class=\"dataframe\">\n",
       "  <thead>\n",
       "    <tr style=\"text-align: right;\">\n",
       "      <th></th>\n",
       "      <th>Item name</th>\n",
       "      <th>Unit of measurement</th>\n",
       "    </tr>\n",
       "  </thead>\n",
       "  <tbody>\n",
       "    <tr>\n",
       "      <th>count</th>\n",
       "      <td>6</td>\n",
       "      <td>6</td>\n",
       "    </tr>\n",
       "    <tr>\n",
       "      <th>unique</th>\n",
       "      <td>6</td>\n",
       "      <td>2</td>\n",
       "    </tr>\n",
       "    <tr>\n",
       "      <th>top</th>\n",
       "      <td>SO2</td>\n",
       "      <td>ppm</td>\n",
       "    </tr>\n",
       "    <tr>\n",
       "      <th>freq</th>\n",
       "      <td>1</td>\n",
       "      <td>4</td>\n",
       "    </tr>\n",
       "  </tbody>\n",
       "</table>\n",
       "</div>"
      ],
      "text/plain": [
       "       Item name Unit of measurement\n",
       "count          6                   6\n",
       "unique         6                   2\n",
       "top          SO2                 ppm\n",
       "freq           1                   4"
      ]
     },
     "execution_count": 37,
     "metadata": {},
     "output_type": "execute_result"
    }
   ],
   "source": [
    "measurement_item.describe(include=\"object\")"
   ]
  },
  {
   "cell_type": "code",
   "execution_count": 38,
   "id": "30c6ab01",
   "metadata": {},
   "outputs": [
    {
     "data": {
      "text/plain": [
       "Item code              0.0\n",
       "Item name              0.0\n",
       "Unit of measurement    0.0\n",
       "Good(Blue)             0.0\n",
       "Normal(Green)          0.0\n",
       "Bad(Yellow)            0.0\n",
       "Very bad(Red)          0.0\n",
       "dtype: float64"
      ]
     },
     "execution_count": 38,
     "metadata": {},
     "output_type": "execute_result"
    }
   ],
   "source": [
    "measurement_item.isnull().sum().sort_values(ascending=False)/len(measurement_item)*100"
   ]
  },
  {
   "cell_type": "markdown",
   "id": "608eda2d",
   "metadata": {},
   "source": [
    "# Measurement Station"
   ]
  },
  {
   "cell_type": "code",
   "execution_count": 39,
   "id": "c6cdfee2",
   "metadata": {},
   "outputs": [
    {
     "data": {
      "text/html": [
       "<div>\n",
       "<style scoped>\n",
       "    .dataframe tbody tr th:only-of-type {\n",
       "        vertical-align: middle;\n",
       "    }\n",
       "\n",
       "    .dataframe tbody tr th {\n",
       "        vertical-align: top;\n",
       "    }\n",
       "\n",
       "    .dataframe thead th {\n",
       "        text-align: right;\n",
       "    }\n",
       "</style>\n",
       "<table border=\"1\" class=\"dataframe\">\n",
       "  <thead>\n",
       "    <tr style=\"text-align: right;\">\n",
       "      <th></th>\n",
       "      <th>Station code</th>\n",
       "      <th>Station name(district)</th>\n",
       "      <th>Address</th>\n",
       "      <th>Latitude</th>\n",
       "      <th>Longitude</th>\n",
       "    </tr>\n",
       "  </thead>\n",
       "  <tbody>\n",
       "    <tr>\n",
       "      <th>14</th>\n",
       "      <td>115</td>\n",
       "      <td>Yangcheon-gu</td>\n",
       "      <td>56, Jungang-ro 52-gil, Yangcheon-gu, Seoul, Re...</td>\n",
       "      <td>37.525939</td>\n",
       "      <td>126.856603</td>\n",
       "    </tr>\n",
       "    <tr>\n",
       "      <th>19</th>\n",
       "      <td>120</td>\n",
       "      <td>Dongjak-gu</td>\n",
       "      <td>6, Sadang-ro 16a-gil, Dongjak-gu, Seoul, Repub...</td>\n",
       "      <td>37.480917</td>\n",
       "      <td>126.971481</td>\n",
       "    </tr>\n",
       "    <tr>\n",
       "      <th>21</th>\n",
       "      <td>122</td>\n",
       "      <td>Seocho-gu</td>\n",
       "      <td>16, Sinbanpo-ro 15-gil, Seocho-gu, Seoul, Repu...</td>\n",
       "      <td>37.504547</td>\n",
       "      <td>126.994458</td>\n",
       "    </tr>\n",
       "    <tr>\n",
       "      <th>12</th>\n",
       "      <td>113</td>\n",
       "      <td>Dobong-gu</td>\n",
       "      <td>34, Sirubong-ro 2-gil, Dobong-gu, Seoul, Repub...</td>\n",
       "      <td>37.654192</td>\n",
       "      <td>127.029088</td>\n",
       "    </tr>\n",
       "    <tr>\n",
       "      <th>8</th>\n",
       "      <td>109</td>\n",
       "      <td>Dongdaemun-gu</td>\n",
       "      <td>43, Cheonho-daero 13-gil, Dongdaemun-gu, Seoul...</td>\n",
       "      <td>37.575743</td>\n",
       "      <td>127.028885</td>\n",
       "    </tr>\n",
       "  </tbody>\n",
       "</table>\n",
       "</div>"
      ],
      "text/plain": [
       "    Station code Station name(district)  \\\n",
       "14           115           Yangcheon-gu   \n",
       "19           120             Dongjak-gu   \n",
       "21           122              Seocho-gu   \n",
       "12           113              Dobong-gu   \n",
       "8            109          Dongdaemun-gu   \n",
       "\n",
       "                                              Address   Latitude   Longitude  \n",
       "14  56, Jungang-ro 52-gil, Yangcheon-gu, Seoul, Re...  37.525939  126.856603  \n",
       "19  6, Sadang-ro 16a-gil, Dongjak-gu, Seoul, Repub...  37.480917  126.971481  \n",
       "21  16, Sinbanpo-ro 15-gil, Seocho-gu, Seoul, Repu...  37.504547  126.994458  \n",
       "12  34, Sirubong-ro 2-gil, Dobong-gu, Seoul, Repub...  37.654192  127.029088  \n",
       "8   43, Cheonho-daero 13-gil, Dongdaemun-gu, Seoul...  37.575743  127.028885  "
      ]
     },
     "execution_count": 39,
     "metadata": {},
     "output_type": "execute_result"
    }
   ],
   "source": [
    "station = pd.read_csv(\"Measurement_station_info.csv\")\n",
    "#pd.set_option('display.max_columns', None)\n",
    "station.sample(5)"
   ]
  },
  {
   "cell_type": "code",
   "execution_count": 40,
   "id": "5635a71e",
   "metadata": {},
   "outputs": [
    {
     "data": {
      "text/plain": [
       "Index(['Station code', 'Station name(district)', 'Address', 'Latitude',\n",
       "       'Longitude'],\n",
       "      dtype='object')"
      ]
     },
     "execution_count": 40,
     "metadata": {},
     "output_type": "execute_result"
    }
   ],
   "source": [
    "station.columns"
   ]
  },
  {
   "cell_type": "code",
   "execution_count": 41,
   "id": "e7af4d89",
   "metadata": {},
   "outputs": [
    {
     "name": "stdout",
     "output_type": "stream",
     "text": [
      "<class 'pandas.core.frame.DataFrame'>\n",
      "RangeIndex: 25 entries, 0 to 24\n",
      "Data columns (total 5 columns):\n",
      " #   Column                  Non-Null Count  Dtype  \n",
      "---  ------                  --------------  -----  \n",
      " 0   Station code            25 non-null     int64  \n",
      " 1   Station name(district)  25 non-null     object \n",
      " 2   Address                 25 non-null     object \n",
      " 3   Latitude                25 non-null     float64\n",
      " 4   Longitude               25 non-null     float64\n",
      "dtypes: float64(2), int64(1), object(2)\n",
      "memory usage: 1.1+ KB\n"
     ]
    }
   ],
   "source": [
    "station.info()"
   ]
  },
  {
   "cell_type": "code",
   "execution_count": 42,
   "id": "b20c417d",
   "metadata": {},
   "outputs": [
    {
     "data": {
      "text/html": [
       "<div>\n",
       "<style scoped>\n",
       "    .dataframe tbody tr th:only-of-type {\n",
       "        vertical-align: middle;\n",
       "    }\n",
       "\n",
       "    .dataframe tbody tr th {\n",
       "        vertical-align: top;\n",
       "    }\n",
       "\n",
       "    .dataframe thead th {\n",
       "        text-align: right;\n",
       "    }\n",
       "</style>\n",
       "<table border=\"1\" class=\"dataframe\">\n",
       "  <thead>\n",
       "    <tr style=\"text-align: right;\">\n",
       "      <th></th>\n",
       "      <th>Station code</th>\n",
       "      <th>Latitude</th>\n",
       "      <th>Longitude</th>\n",
       "    </tr>\n",
       "  </thead>\n",
       "  <tbody>\n",
       "    <tr>\n",
       "      <th>count</th>\n",
       "      <td>25.000000</td>\n",
       "      <td>25.000000</td>\n",
       "      <td>25.000000</td>\n",
       "    </tr>\n",
       "    <tr>\n",
       "      <th>mean</th>\n",
       "      <td>113.000000</td>\n",
       "      <td>37.553486</td>\n",
       "      <td>126.989339</td>\n",
       "    </tr>\n",
       "    <tr>\n",
       "      <th>std</th>\n",
       "      <td>7.359801</td>\n",
       "      <td>0.054373</td>\n",
       "      <td>0.080413</td>\n",
       "    </tr>\n",
       "    <tr>\n",
       "      <th>min</th>\n",
       "      <td>101.000000</td>\n",
       "      <td>37.452357</td>\n",
       "      <td>126.835151</td>\n",
       "    </tr>\n",
       "    <tr>\n",
       "      <th>25%</th>\n",
       "      <td>107.000000</td>\n",
       "      <td>37.517528</td>\n",
       "      <td>126.927102</td>\n",
       "    </tr>\n",
       "    <tr>\n",
       "      <th>50%</th>\n",
       "      <td>113.000000</td>\n",
       "      <td>37.544962</td>\n",
       "      <td>127.004850</td>\n",
       "    </tr>\n",
       "    <tr>\n",
       "      <th>75%</th>\n",
       "      <td>119.000000</td>\n",
       "      <td>37.584848</td>\n",
       "      <td>127.047470</td>\n",
       "    </tr>\n",
       "    <tr>\n",
       "      <th>max</th>\n",
       "      <td>125.000000</td>\n",
       "      <td>37.658774</td>\n",
       "      <td>127.136792</td>\n",
       "    </tr>\n",
       "  </tbody>\n",
       "</table>\n",
       "</div>"
      ],
      "text/plain": [
       "       Station code   Latitude   Longitude\n",
       "count     25.000000  25.000000   25.000000\n",
       "mean     113.000000  37.553486  126.989339\n",
       "std        7.359801   0.054373    0.080413\n",
       "min      101.000000  37.452357  126.835151\n",
       "25%      107.000000  37.517528  126.927102\n",
       "50%      113.000000  37.544962  127.004850\n",
       "75%      119.000000  37.584848  127.047470\n",
       "max      125.000000  37.658774  127.136792"
      ]
     },
     "execution_count": 42,
     "metadata": {},
     "output_type": "execute_result"
    }
   ],
   "source": [
    "station.describe()"
   ]
  },
  {
   "cell_type": "code",
   "execution_count": 43,
   "id": "c5732d48",
   "metadata": {},
   "outputs": [
    {
     "data": {
      "text/html": [
       "<div>\n",
       "<style scoped>\n",
       "    .dataframe tbody tr th:only-of-type {\n",
       "        vertical-align: middle;\n",
       "    }\n",
       "\n",
       "    .dataframe tbody tr th {\n",
       "        vertical-align: top;\n",
       "    }\n",
       "\n",
       "    .dataframe thead th {\n",
       "        text-align: right;\n",
       "    }\n",
       "</style>\n",
       "<table border=\"1\" class=\"dataframe\">\n",
       "  <thead>\n",
       "    <tr style=\"text-align: right;\">\n",
       "      <th></th>\n",
       "      <th>Station name(district)</th>\n",
       "      <th>Address</th>\n",
       "    </tr>\n",
       "  </thead>\n",
       "  <tbody>\n",
       "    <tr>\n",
       "      <th>count</th>\n",
       "      <td>25</td>\n",
       "      <td>25</td>\n",
       "    </tr>\n",
       "    <tr>\n",
       "      <th>unique</th>\n",
       "      <td>25</td>\n",
       "      <td>25</td>\n",
       "    </tr>\n",
       "    <tr>\n",
       "      <th>top</th>\n",
       "      <td>Jongno-gu</td>\n",
       "      <td>19, Jong-ro 35ga-gil, Jongno-gu, Seoul, Republ...</td>\n",
       "    </tr>\n",
       "    <tr>\n",
       "      <th>freq</th>\n",
       "      <td>1</td>\n",
       "      <td>1</td>\n",
       "    </tr>\n",
       "  </tbody>\n",
       "</table>\n",
       "</div>"
      ],
      "text/plain": [
       "       Station name(district)  \\\n",
       "count                      25   \n",
       "unique                     25   \n",
       "top                 Jongno-gu   \n",
       "freq                        1   \n",
       "\n",
       "                                                  Address  \n",
       "count                                                  25  \n",
       "unique                                                 25  \n",
       "top     19, Jong-ro 35ga-gil, Jongno-gu, Seoul, Republ...  \n",
       "freq                                                    1  "
      ]
     },
     "execution_count": 43,
     "metadata": {},
     "output_type": "execute_result"
    }
   ],
   "source": [
    "station.describe(include=\"object\")"
   ]
  },
  {
   "cell_type": "code",
   "execution_count": 44,
   "id": "804f5567",
   "metadata": {},
   "outputs": [
    {
     "data": {
      "text/plain": [
       "Station code              0.0\n",
       "Station name(district)    0.0\n",
       "Address                   0.0\n",
       "Latitude                  0.0\n",
       "Longitude                 0.0\n",
       "dtype: float64"
      ]
     },
     "execution_count": 44,
     "metadata": {},
     "output_type": "execute_result"
    }
   ],
   "source": [
    "station.isnull().sum().sort_values(ascending=False)/len(station)*100"
   ]
  }
 ],
 "metadata": {
  "kernelspec": {
   "display_name": "base",
   "language": "python",
   "name": "python3"
  },
  "language_info": {
   "codemirror_mode": {
    "name": "ipython",
    "version": 3
   },
   "file_extension": ".py",
   "mimetype": "text/x-python",
   "name": "python",
   "nbconvert_exporter": "python",
   "pygments_lexer": "ipython3",
   "version": "3.9.12"
  }
 },
 "nbformat": 4,
 "nbformat_minor": 5
}
